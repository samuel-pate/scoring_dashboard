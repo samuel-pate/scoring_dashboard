{
 "cells": [
  {
   "cell_type": "code",
   "execution_count": 1,
   "metadata": {},
   "outputs": [
    {
     "name": "stdout",
     "output_type": "stream",
     "text": [
      "1.1.3\n",
      "0.11.0\n",
      "3.3.2\n",
      "0.23.2\n"
     ]
    }
   ],
   "source": [
    "import pandas as pd\n",
    "import numpy as np\n",
    "import gc\n",
    "import lightgbm as lgb\n",
    "import seaborn as sns\n",
    "import matplotlib\n",
    "import matplotlib.pyplot as plt\n",
    "import sklearn\n",
    "from sklearn import model_selection, metrics\n",
    "import pickle\n",
    "\n",
    "print(pd.__version__) #1.1.3\n",
    "print(sns.__version__) #0.11.0\n",
    "print(matplotlib.__version__) # 3.3.2\n",
    "print(sklearn.__version__) # 0.23.2"
   ]
  },
  {
   "cell_type": "code",
   "execution_count": 2,
   "metadata": {
    "scrolled": true
   },
   "outputs": [
    {
     "ename": "FileNotFoundError",
     "evalue": "[Errno 2] No such file or directory: 'pickle_cat_features.pkl'",
     "output_type": "error",
     "traceback": [
      "\u001b[0;31m---------------------------------------------------------------------------\u001b[0m",
      "\u001b[0;31mFileNotFoundError\u001b[0m                         Traceback (most recent call last)",
      "\u001b[0;32m<ipython-input-2-4c9f9c4bd60d>\u001b[0m in \u001b[0;36m<module>\u001b[0;34m\u001b[0m\n\u001b[1;32m      3\u001b[0m \u001b[0mdata\u001b[0m \u001b[0;34m=\u001b[0m \u001b[0mpd\u001b[0m\u001b[0;34m.\u001b[0m\u001b[0mread_csv\u001b[0m\u001b[0;34m(\u001b[0m\u001b[0;34m\"data/train_resampled.csv\"\u001b[0m\u001b[0;34m)\u001b[0m\u001b[0;34m\u001b[0m\u001b[0;34m\u001b[0m\u001b[0m\n\u001b[1;32m      4\u001b[0m \u001b[0;34m\u001b[0m\u001b[0m\n\u001b[0;32m----> 5\u001b[0;31m \u001b[0mcat_features\u001b[0m \u001b[0;34m=\u001b[0m \u001b[0mpickle\u001b[0m\u001b[0;34m.\u001b[0m\u001b[0mload\u001b[0m\u001b[0;34m(\u001b[0m\u001b[0mopen\u001b[0m\u001b[0;34m(\u001b[0m\u001b[0;34m\"pickle_cat_features.pkl\"\u001b[0m\u001b[0;34m,\u001b[0m \u001b[0;34m\"rb\"\u001b[0m\u001b[0;34m)\u001b[0m\u001b[0;34m)\u001b[0m\u001b[0;34m\u001b[0m\u001b[0;34m\u001b[0m\u001b[0m\n\u001b[0m\u001b[1;32m      6\u001b[0m \u001b[0;34m\u001b[0m\u001b[0m\n\u001b[1;32m      7\u001b[0m \u001b[0mX\u001b[0m \u001b[0;34m=\u001b[0m \u001b[0mdata\u001b[0m\u001b[0;34m.\u001b[0m\u001b[0mdrop\u001b[0m\u001b[0;34m(\u001b[0m\u001b[0mcolumns\u001b[0m\u001b[0;34m=\u001b[0m\u001b[0;34m[\u001b[0m\u001b[0;34m'TARGET'\u001b[0m\u001b[0;34m,\u001b[0m\u001b[0;34m'Unnamed: 0'\u001b[0m\u001b[0;34m]\u001b[0m\u001b[0;34m)\u001b[0m\u001b[0;34m\u001b[0m\u001b[0;34m\u001b[0m\u001b[0m\n",
      "\u001b[0;31mFileNotFoundError\u001b[0m: [Errno 2] No such file or directory: 'pickle_cat_features.pkl'"
     ]
    }
   ],
   "source": [
    "# récupération des données\n",
    "\n",
    "data = pd.read_csv(\"data/train_resampled.csv\")\n",
    "\n",
    "cat_features = pickle.load(open(\"data/pickle_cat_features.pkl\", \"rb\"))\n",
    "\n",
    "X = data.drop(columns=['TARGET','Unnamed: 0'])\n",
    "y = data[\"TARGET\"]\n",
    "\n",
    "del data\n",
    "gc.collect()"
   ]
  },
  {
   "cell_type": "code",
   "execution_count": null,
   "metadata": {},
   "outputs": [],
   "source": [
    "# rectification des noms des features pour le classifieur LGBM\n",
    "\n",
    "def replace_name(name):\n",
    "    for c in [\"[\",\"]\",\",\",\"{\",\"}\",'\"',\":\",\" \"]:\n",
    "        if c in name :\n",
    "            name = name.replace(c,\"_\")\n",
    "    return name\n",
    "            \n",
    "features = list(map(replace_name, X.columns))\n",
    "X.columns = features"
   ]
  },
  {
   "cell_type": "code",
   "execution_count": null,
   "metadata": {},
   "outputs": [],
   "source": [
    "# métrique F_beta\n",
    "\n",
    "BETA = 2\n",
    "\n",
    "def f_beta(y_true, probas_pred):\n",
    "    y_pred = np.vectorize(lambda x : 0 if x<0.5 else 1)(probas_pred)\n",
    "    score = metrics.fbeta_score(y_true, y_pred, beta=BETA)\n",
    "    return \"F_beta\", score, True"
   ]
  },
  {
   "cell_type": "code",
   "execution_count": null,
   "metadata": {},
   "outputs": [],
   "source": [
    "# séparation train et valid set\n",
    "\n",
    "train_x, valid_x, train_y, valid_y = model_selection.train_test_split(X, y, test_size=0.2, \n",
    "                                                                      random_state=123)\n",
    "del X, y\n",
    "gc.collect()"
   ]
  },
  {
   "cell_type": "code",
   "execution_count": null,
   "metadata": {},
   "outputs": [],
   "source": [
    "# entaînement du modèle\n",
    "\n",
    "clf = lgb.LGBMClassifier(\n",
    "        n_jobs=-1,\n",
    "        n_estimators=10000,\n",
    "        learning_rate=0.01604238736764179,\n",
    "        num_leaves=37,\n",
    "        colsample_bytree=0.26424255740815,\n",
    "        subsample=0.9222047021355166,\n",
    "        max_depth=6,\n",
    "        reg_alpha=0.8495823622837118,\n",
    "        reg_lambda=0.7247308695357746,\n",
    "        min_split_gain=0.05365093112258974,\n",
    "        min_child_weight=28.91981182288273,\n",
    "        silent=-1,\n",
    "        verbose=-1,\n",
    "        random_state=123,\n",
    "        categorical_feature=list(np.where(train_x.columns.isin(cat_features))[0]))\n",
    "\n",
    "clf.fit(train_x, train_y, eval_set=[(train_x, train_y), (valid_x, valid_y)], \n",
    "    eval_metric=f_beta, verbose= 200, early_stopping_rounds= 200)"
   ]
  },
  {
   "cell_type": "code",
   "execution_count": null,
   "metadata": {},
   "outputs": [],
   "source": [
    "# features importances\n",
    "\n",
    "feature_importance_df = pd.DataFrame()\n",
    "feature_importance_df[\"feature\"] = train_x.columns\n",
    "feature_importance_df[\"importance\"] = clf.feature_importances_\n",
    "best_features_idx = feature_importance_df.sort_values(by=\"importance\", ascending=False)[:40].index\n",
    "plt.figure(figsize=(8, 10))\n",
    "sns.barplot(x=\"importance\", y=\"feature\", data=feature_importance_df.iloc[best_features_idx].sort_values(by=\"importance\", ascending=False))\n",
    "plt.title('LightGBM Features')\n",
    "plt.tight_layout()\n",
    "plt.savefig('img/lgbm_importances02.png')"
   ]
  },
  {
   "cell_type": "code",
   "execution_count": null,
   "metadata": {},
   "outputs": [],
   "source": [
    "# enregistrement du modèle\n",
    "pickle.dump(clf, open(\"data/pickle_lgbm_classifier.pkl\", \"wb\"))"
   ]
  },
  {
   "cell_type": "code",
   "execution_count": null,
   "metadata": {},
   "outputs": [],
   "source": []
  }
 ],
 "metadata": {
  "kernelspec": {
   "display_name": "Python 3",
   "language": "python",
   "name": "python3"
  },
  "language_info": {
   "codemirror_mode": {
    "name": "ipython",
    "version": 3
   },
   "file_extension": ".py",
   "mimetype": "text/x-python",
   "name": "python",
   "nbconvert_exporter": "python",
   "pygments_lexer": "ipython3",
   "version": "3.8.5"
  }
 },
 "nbformat": 4,
 "nbformat_minor": 4
}
