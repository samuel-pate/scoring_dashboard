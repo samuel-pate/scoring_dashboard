{
 "cells": [
  {
   "cell_type": "code",
   "execution_count": 1,
   "metadata": {},
   "outputs": [],
   "source": [
    "import numpy as np\n",
    "import pandas as pd\n",
    "import gc\n",
    "import matplotlib.pyplot as plt\n",
    "import seaborn as sns\n",
    "from sklearn import preprocessing, impute\n",
    "import pickle\n",
    "\n",
    "# récupération des données\n",
    "df = pd.read_csv(\"data/df2.csv\")\n",
    "\n",
    "# One-hot encoding pour variables catégorielles avec get_dummies\n",
    "def one_hot_encoder(df, nan_as_category = True):\n",
    "    original_columns = list(df.columns)\n",
    "    categorical_columns = [col for col in df.columns if df[col].dtype == 'object']\n",
    "    df = pd.get_dummies(df, columns= categorical_columns, dummy_na= nan_as_category)\n",
    "    new_columns = [c for c in list(df.columns) if c not in original_columns]\n",
    "    return df, new_columns"
   ]
  },
  {
   "cell_type": "markdown",
   "metadata": {},
   "source": [
    "# Prétraitement des demandes de crédit antérieures chez Home Credit"
   ]
  },
  {
   "cell_type": "code",
   "execution_count": 2,
   "metadata": {},
   "outputs": [],
   "source": [
    "# récupération des données\n",
    "prev = pd.read_csv('data/previous_application.csv')\n",
    "\n",
    "# encodage des données catégorielles\n",
    "prev, cat_cols = one_hot_encoder(prev, nan_as_category= True)"
   ]
  },
  {
   "cell_type": "code",
   "execution_count": 3,
   "metadata": {},
   "outputs": [],
   "source": [
    "# traitement des valeurs aberrantes\n",
    "prev['DAYS_FIRST_DRAWING'].replace(365243, np.nan, inplace= True)\n",
    "prev['DAYS_FIRST_DUE'].replace(365243, np.nan, inplace= True)\n",
    "prev['DAYS_LAST_DUE_1ST_VERSION'].replace(365243, np.nan, inplace= True)\n",
    "prev['DAYS_LAST_DUE'].replace(365243, np.nan, inplace= True)\n",
    "prev['DAYS_TERMINATION'].replace(365243, np.nan, inplace= True)"
   ]
  },
  {
   "cell_type": "code",
   "execution_count": 4,
   "metadata": {},
   "outputs": [],
   "source": [
    "# nouvelle feature : pourcentage de la valeur demandée par rapport à la valeur reçue\n",
    "prev['APP_CREDIT_PERC'] = prev['AMT_APPLICATION'] / prev['AMT_CREDIT']"
   ]
  },
  {
   "cell_type": "code",
   "execution_count": 5,
   "metadata": {},
   "outputs": [
    {
     "data": {
      "text/plain": [
       "{'NAME_CONTRACT_TYPE_Cash loans': ['mean'],\n",
       " 'NAME_CONTRACT_TYPE_Consumer loans': ['mean'],\n",
       " 'NAME_CONTRACT_TYPE_Revolving loans': ['mean'],\n",
       " 'NAME_CONTRACT_TYPE_XNA': ['mean'],\n",
       " 'NAME_CONTRACT_TYPE_nan': ['mean'],\n",
       " 'WEEKDAY_APPR_PROCESS_START_FRIDAY': ['mean'],\n",
       " 'WEEKDAY_APPR_PROCESS_START_MONDAY': ['mean'],\n",
       " 'WEEKDAY_APPR_PROCESS_START_SATURDAY': ['mean'],\n",
       " 'WEEKDAY_APPR_PROCESS_START_SUNDAY': ['mean'],\n",
       " 'WEEKDAY_APPR_PROCESS_START_THURSDAY': ['mean'],\n",
       " 'WEEKDAY_APPR_PROCESS_START_TUESDAY': ['mean'],\n",
       " 'WEEKDAY_APPR_PROCESS_START_WEDNESDAY': ['mean'],\n",
       " 'WEEKDAY_APPR_PROCESS_START_nan': ['mean'],\n",
       " 'FLAG_LAST_APPL_PER_CONTRACT_N': ['mean'],\n",
       " 'FLAG_LAST_APPL_PER_CONTRACT_Y': ['mean'],\n",
       " 'FLAG_LAST_APPL_PER_CONTRACT_nan': ['mean'],\n",
       " 'NAME_CASH_LOAN_PURPOSE_Building a house or an annex': ['mean'],\n",
       " 'NAME_CASH_LOAN_PURPOSE_Business development': ['mean'],\n",
       " 'NAME_CASH_LOAN_PURPOSE_Buying a garage': ['mean'],\n",
       " 'NAME_CASH_LOAN_PURPOSE_Buying a holiday home / land': ['mean'],\n",
       " 'NAME_CASH_LOAN_PURPOSE_Buying a home': ['mean'],\n",
       " 'NAME_CASH_LOAN_PURPOSE_Buying a new car': ['mean'],\n",
       " 'NAME_CASH_LOAN_PURPOSE_Buying a used car': ['mean'],\n",
       " 'NAME_CASH_LOAN_PURPOSE_Car repairs': ['mean'],\n",
       " 'NAME_CASH_LOAN_PURPOSE_Education': ['mean'],\n",
       " 'NAME_CASH_LOAN_PURPOSE_Everyday expenses': ['mean'],\n",
       " 'NAME_CASH_LOAN_PURPOSE_Furniture': ['mean'],\n",
       " 'NAME_CASH_LOAN_PURPOSE_Gasification / water supply': ['mean'],\n",
       " 'NAME_CASH_LOAN_PURPOSE_Hobby': ['mean'],\n",
       " 'NAME_CASH_LOAN_PURPOSE_Journey': ['mean'],\n",
       " 'NAME_CASH_LOAN_PURPOSE_Medicine': ['mean'],\n",
       " 'NAME_CASH_LOAN_PURPOSE_Money for a third person': ['mean'],\n",
       " 'NAME_CASH_LOAN_PURPOSE_Other': ['mean'],\n",
       " 'NAME_CASH_LOAN_PURPOSE_Payments on other loans': ['mean'],\n",
       " 'NAME_CASH_LOAN_PURPOSE_Purchase of electronic equipment': ['mean'],\n",
       " 'NAME_CASH_LOAN_PURPOSE_Refusal to name the goal': ['mean'],\n",
       " 'NAME_CASH_LOAN_PURPOSE_Repairs': ['mean'],\n",
       " 'NAME_CASH_LOAN_PURPOSE_Urgent needs': ['mean'],\n",
       " 'NAME_CASH_LOAN_PURPOSE_Wedding / gift / holiday': ['mean'],\n",
       " 'NAME_CASH_LOAN_PURPOSE_XAP': ['mean'],\n",
       " 'NAME_CASH_LOAN_PURPOSE_XNA': ['mean'],\n",
       " 'NAME_CASH_LOAN_PURPOSE_nan': ['mean'],\n",
       " 'NAME_CONTRACT_STATUS_Approved': ['mean'],\n",
       " 'NAME_CONTRACT_STATUS_Canceled': ['mean'],\n",
       " 'NAME_CONTRACT_STATUS_Refused': ['mean'],\n",
       " 'NAME_CONTRACT_STATUS_Unused offer': ['mean'],\n",
       " 'NAME_CONTRACT_STATUS_nan': ['mean'],\n",
       " 'NAME_PAYMENT_TYPE_Cash through the bank': ['mean'],\n",
       " 'NAME_PAYMENT_TYPE_Cashless from the account of the employer': ['mean'],\n",
       " 'NAME_PAYMENT_TYPE_Non-cash from your account': ['mean'],\n",
       " 'NAME_PAYMENT_TYPE_XNA': ['mean'],\n",
       " 'NAME_PAYMENT_TYPE_nan': ['mean'],\n",
       " 'CODE_REJECT_REASON_CLIENT': ['mean'],\n",
       " 'CODE_REJECT_REASON_HC': ['mean'],\n",
       " 'CODE_REJECT_REASON_LIMIT': ['mean'],\n",
       " 'CODE_REJECT_REASON_SCO': ['mean'],\n",
       " 'CODE_REJECT_REASON_SCOFR': ['mean'],\n",
       " 'CODE_REJECT_REASON_SYSTEM': ['mean'],\n",
       " 'CODE_REJECT_REASON_VERIF': ['mean'],\n",
       " 'CODE_REJECT_REASON_XAP': ['mean'],\n",
       " 'CODE_REJECT_REASON_XNA': ['mean'],\n",
       " 'CODE_REJECT_REASON_nan': ['mean'],\n",
       " 'NAME_TYPE_SUITE_Children': ['mean'],\n",
       " 'NAME_TYPE_SUITE_Family': ['mean'],\n",
       " 'NAME_TYPE_SUITE_Group of people': ['mean'],\n",
       " 'NAME_TYPE_SUITE_Other_A': ['mean'],\n",
       " 'NAME_TYPE_SUITE_Other_B': ['mean'],\n",
       " 'NAME_TYPE_SUITE_Spouse, partner': ['mean'],\n",
       " 'NAME_TYPE_SUITE_Unaccompanied': ['mean'],\n",
       " 'NAME_TYPE_SUITE_nan': ['mean'],\n",
       " 'NAME_CLIENT_TYPE_New': ['mean'],\n",
       " 'NAME_CLIENT_TYPE_Refreshed': ['mean'],\n",
       " 'NAME_CLIENT_TYPE_Repeater': ['mean'],\n",
       " 'NAME_CLIENT_TYPE_XNA': ['mean'],\n",
       " 'NAME_CLIENT_TYPE_nan': ['mean'],\n",
       " 'NAME_GOODS_CATEGORY_Additional Service': ['mean'],\n",
       " 'NAME_GOODS_CATEGORY_Animals': ['mean'],\n",
       " 'NAME_GOODS_CATEGORY_Audio/Video': ['mean'],\n",
       " 'NAME_GOODS_CATEGORY_Auto Accessories': ['mean'],\n",
       " 'NAME_GOODS_CATEGORY_Clothing and Accessories': ['mean'],\n",
       " 'NAME_GOODS_CATEGORY_Computers': ['mean'],\n",
       " 'NAME_GOODS_CATEGORY_Construction Materials': ['mean'],\n",
       " 'NAME_GOODS_CATEGORY_Consumer Electronics': ['mean'],\n",
       " 'NAME_GOODS_CATEGORY_Direct Sales': ['mean'],\n",
       " 'NAME_GOODS_CATEGORY_Education': ['mean'],\n",
       " 'NAME_GOODS_CATEGORY_Fitness': ['mean'],\n",
       " 'NAME_GOODS_CATEGORY_Furniture': ['mean'],\n",
       " 'NAME_GOODS_CATEGORY_Gardening': ['mean'],\n",
       " 'NAME_GOODS_CATEGORY_Homewares': ['mean'],\n",
       " 'NAME_GOODS_CATEGORY_House Construction': ['mean'],\n",
       " 'NAME_GOODS_CATEGORY_Insurance': ['mean'],\n",
       " 'NAME_GOODS_CATEGORY_Jewelry': ['mean'],\n",
       " 'NAME_GOODS_CATEGORY_Medical Supplies': ['mean'],\n",
       " 'NAME_GOODS_CATEGORY_Medicine': ['mean'],\n",
       " 'NAME_GOODS_CATEGORY_Mobile': ['mean'],\n",
       " 'NAME_GOODS_CATEGORY_Office Appliances': ['mean'],\n",
       " 'NAME_GOODS_CATEGORY_Other': ['mean'],\n",
       " 'NAME_GOODS_CATEGORY_Photo / Cinema Equipment': ['mean'],\n",
       " 'NAME_GOODS_CATEGORY_Sport and Leisure': ['mean'],\n",
       " 'NAME_GOODS_CATEGORY_Tourism': ['mean'],\n",
       " 'NAME_GOODS_CATEGORY_Vehicles': ['mean'],\n",
       " 'NAME_GOODS_CATEGORY_Weapon': ['mean'],\n",
       " 'NAME_GOODS_CATEGORY_XNA': ['mean'],\n",
       " 'NAME_GOODS_CATEGORY_nan': ['mean'],\n",
       " 'NAME_PORTFOLIO_Cards': ['mean'],\n",
       " 'NAME_PORTFOLIO_Cars': ['mean'],\n",
       " 'NAME_PORTFOLIO_Cash': ['mean'],\n",
       " 'NAME_PORTFOLIO_POS': ['mean'],\n",
       " 'NAME_PORTFOLIO_XNA': ['mean'],\n",
       " 'NAME_PORTFOLIO_nan': ['mean'],\n",
       " 'NAME_PRODUCT_TYPE_XNA': ['mean'],\n",
       " 'NAME_PRODUCT_TYPE_walk-in': ['mean'],\n",
       " 'NAME_PRODUCT_TYPE_x-sell': ['mean'],\n",
       " 'NAME_PRODUCT_TYPE_nan': ['mean'],\n",
       " 'CHANNEL_TYPE_AP+ (Cash loan)': ['mean'],\n",
       " 'CHANNEL_TYPE_Car dealer': ['mean'],\n",
       " 'CHANNEL_TYPE_Channel of corporate sales': ['mean'],\n",
       " 'CHANNEL_TYPE_Contact center': ['mean'],\n",
       " 'CHANNEL_TYPE_Country-wide': ['mean'],\n",
       " 'CHANNEL_TYPE_Credit and cash offices': ['mean'],\n",
       " 'CHANNEL_TYPE_Regional / Local': ['mean'],\n",
       " 'CHANNEL_TYPE_Stone': ['mean'],\n",
       " 'CHANNEL_TYPE_nan': ['mean'],\n",
       " 'NAME_SELLER_INDUSTRY_Auto technology': ['mean'],\n",
       " 'NAME_SELLER_INDUSTRY_Clothing': ['mean'],\n",
       " 'NAME_SELLER_INDUSTRY_Connectivity': ['mean'],\n",
       " 'NAME_SELLER_INDUSTRY_Construction': ['mean'],\n",
       " 'NAME_SELLER_INDUSTRY_Consumer electronics': ['mean'],\n",
       " 'NAME_SELLER_INDUSTRY_Furniture': ['mean'],\n",
       " 'NAME_SELLER_INDUSTRY_Industry': ['mean'],\n",
       " 'NAME_SELLER_INDUSTRY_Jewelry': ['mean'],\n",
       " 'NAME_SELLER_INDUSTRY_MLM partners': ['mean'],\n",
       " 'NAME_SELLER_INDUSTRY_Tourism': ['mean'],\n",
       " 'NAME_SELLER_INDUSTRY_XNA': ['mean'],\n",
       " 'NAME_SELLER_INDUSTRY_nan': ['mean'],\n",
       " 'NAME_YIELD_GROUP_XNA': ['mean'],\n",
       " 'NAME_YIELD_GROUP_high': ['mean'],\n",
       " 'NAME_YIELD_GROUP_low_action': ['mean'],\n",
       " 'NAME_YIELD_GROUP_low_normal': ['mean'],\n",
       " 'NAME_YIELD_GROUP_middle': ['mean'],\n",
       " 'NAME_YIELD_GROUP_nan': ['mean'],\n",
       " 'PRODUCT_COMBINATION_Card Street': ['mean'],\n",
       " 'PRODUCT_COMBINATION_Card X-Sell': ['mean'],\n",
       " 'PRODUCT_COMBINATION_Cash': ['mean'],\n",
       " 'PRODUCT_COMBINATION_Cash Street: high': ['mean'],\n",
       " 'PRODUCT_COMBINATION_Cash Street: low': ['mean'],\n",
       " 'PRODUCT_COMBINATION_Cash Street: middle': ['mean'],\n",
       " 'PRODUCT_COMBINATION_Cash X-Sell: high': ['mean'],\n",
       " 'PRODUCT_COMBINATION_Cash X-Sell: low': ['mean'],\n",
       " 'PRODUCT_COMBINATION_Cash X-Sell: middle': ['mean'],\n",
       " 'PRODUCT_COMBINATION_POS household with interest': ['mean'],\n",
       " 'PRODUCT_COMBINATION_POS household without interest': ['mean'],\n",
       " 'PRODUCT_COMBINATION_POS industry with interest': ['mean'],\n",
       " 'PRODUCT_COMBINATION_POS industry without interest': ['mean'],\n",
       " 'PRODUCT_COMBINATION_POS mobile with interest': ['mean'],\n",
       " 'PRODUCT_COMBINATION_POS mobile without interest': ['mean'],\n",
       " 'PRODUCT_COMBINATION_POS other with interest': ['mean'],\n",
       " 'PRODUCT_COMBINATION_POS others without interest': ['mean'],\n",
       " 'PRODUCT_COMBINATION_nan': ['mean']}"
      ]
     },
     "execution_count": 5,
     "metadata": {},
     "output_type": "execute_result"
    }
   ],
   "source": [
    "# préparation des agrégations\n",
    "\n",
    "# Variables numériques\n",
    "num_aggregations = {\n",
    "    'AMT_ANNUITY': ['min', 'max', 'mean'],\n",
    "    'AMT_APPLICATION': ['min', 'max', 'mean'],\n",
    "    'AMT_CREDIT': ['min', 'max', 'mean'],\n",
    "    'APP_CREDIT_PERC': ['min', 'max', 'mean', 'var'],\n",
    "    'AMT_DOWN_PAYMENT': ['min', 'max', 'mean'],\n",
    "    'AMT_GOODS_PRICE': ['min', 'max', 'mean'],\n",
    "    'HOUR_APPR_PROCESS_START': ['min', 'max', 'mean'],\n",
    "    'RATE_DOWN_PAYMENT': ['min', 'max', 'mean'],\n",
    "    'DAYS_DECISION': ['min', 'max', 'mean'],\n",
    "    'CNT_PAYMENT': ['mean', 'sum'],\n",
    "}\n",
    "# Variables catégorielles\n",
    "cat_aggregations = {}\n",
    "for cat in cat_cols:\n",
    "    cat_aggregations[cat] = ['mean']\n",
    "    \n",
    "cat_aggregations"
   ]
  },
  {
   "cell_type": "code",
   "execution_count": 6,
   "metadata": {},
   "outputs": [],
   "source": [
    "# agrégats \n",
    "\n",
    "prev_agg = prev.groupby('SK_ID_CURR').agg({**num_aggregations, **cat_aggregations})\n",
    "prev_agg.columns = pd.Index(['PREV_' + e[0] + \"_\" + e[1].upper() for e in prev_agg.columns.tolist()])\n",
    "\n",
    "# Agrégation des attributs numériques des crédits accordés\n",
    "approved = prev[prev['NAME_CONTRACT_STATUS_Approved'] == 1]\n",
    "approved_agg = approved.groupby('SK_ID_CURR').agg(num_aggregations)\n",
    "approved_agg.columns = pd.Index(['APPROVED_' + e[0] + \"_\" + e[1].upper() for e in approved_agg.columns.tolist()])\n",
    "prev_agg = prev_agg.join(approved_agg, how='left', on='SK_ID_CURR')\n",
    "\n",
    "# Agrégation des attributs numériques des crédits refusés \n",
    "refused = prev[prev['NAME_CONTRACT_STATUS_Refused'] == 1]\n",
    "refused_agg = refused.groupby('SK_ID_CURR').agg(num_aggregations)\n",
    "refused_agg.columns = pd.Index(['REFUSED_' + e[0] + \"_\" + e[1].upper() for e in refused_agg.columns.tolist()])\n",
    "prev_agg = prev_agg.join(refused_agg, how='left', on='SK_ID_CURR')"
   ]
  },
  {
   "cell_type": "code",
   "execution_count": 7,
   "metadata": {},
   "outputs": [],
   "source": [
    "# imputation par KNN\n",
    "\n",
    "prev_agg.replace(to_replace=np.inf, value=np.nan, inplace=True)\n",
    "prev_agg[prev_agg.columns] = impute.KNNImputer().fit_transform(prev_agg)"
   ]
  },
  {
   "cell_type": "code",
   "execution_count": 8,
   "metadata": {},
   "outputs": [
    {
     "name": "stdout",
     "output_type": "stream",
     "text": [
      "Taille du data set : (356251, 494)\n",
      "Proportion de valeurs manquantes : 0.05814231850384066\n"
     ]
    }
   ],
   "source": [
    "# jointure aux données principales\n",
    "\n",
    "df = df.join(prev_agg, how='left', on='SK_ID_CURR')\n",
    "\n",
    "del prev_agg\n",
    "gc.collect()\n",
    "\n",
    "print(f\"Taille du data set : {df.shape}\")\n",
    "missing_values_prop = df.isnull().sum().sum()/df.size\n",
    "print(f\"Proportion de valeurs manquantes : {missing_values_prop}\")"
   ]
  },
  {
   "cell_type": "code",
   "execution_count": 9,
   "metadata": {},
   "outputs": [],
   "source": [
    "# enregistrement des données\n",
    "\n",
    "df.to_csv(\"data/df3.csv\", index=False)"
   ]
  },
  {
   "cell_type": "markdown",
   "metadata": {},
   "source": [
    "# Prétraitement des données POS-Cash"
   ]
  },
  {
   "cell_type": "code",
   "execution_count": 10,
   "metadata": {},
   "outputs": [
    {
     "name": "stdout",
     "output_type": "stream",
     "text": [
      "Taille du data set : (356251, 512)\n",
      "Proportion de valeurs manquantes : 0.05797354340759745\n"
     ]
    }
   ],
   "source": [
    "# lecture des données\n",
    "pos = pd.read_csv('data/POS_CASH_balance.csv')\n",
    "pos, cat_cols = one_hot_encoder(pos, nan_as_category= True)\n",
    "# agrégations des données\n",
    "aggregations = {\n",
    "    'MONTHS_BALANCE': ['max', 'mean', 'size'],\n",
    "    'SK_DPD': ['max', 'mean'],\n",
    "    'SK_DPD_DEF': ['max', 'mean']\n",
    "}\n",
    "for cat in cat_cols:\n",
    "    aggregations[cat] = ['mean']\n",
    "\n",
    "pos_agg = pos.groupby('SK_ID_CURR').agg(aggregations)\n",
    "pos_agg.columns = pd.Index(['POS_' + e[0] + \"_\" + e[1].upper() for e in pos_agg.columns.tolist()])\n",
    "# décompte des comptes\n",
    "pos_agg['POS_COUNT'] = pos.groupby('SK_ID_CURR').size()\n",
    "# imputation par KNN\n",
    "pos_agg.replace(to_replace=np.inf, value=np.nan, inplace=True)\n",
    "pos_agg[pos_agg.columns] = impute.KNNImputer().fit_transform(pos_agg)\n",
    "# jointure\n",
    "df = df.join(pos_agg, how='left', on='SK_ID_CURR')\n",
    "\n",
    "del pos_agg\n",
    "gc.collect()\n",
    "\n",
    "print(f\"Taille du data set : {df.shape}\")\n",
    "missing_values_prop = df.isnull().sum().sum()/df.size\n",
    "print(f\"Proportion de valeurs manquantes : {missing_values_prop}\")"
   ]
  },
  {
   "cell_type": "code",
   "execution_count": 11,
   "metadata": {},
   "outputs": [],
   "source": [
    "# enregistrement des données\n",
    "\n",
    "df.to_csv(\"data/df4.csv\", index=False)"
   ]
  },
  {
   "cell_type": "markdown",
   "metadata": {},
   "source": [
    "# Prétraitement des données des versements"
   ]
  },
  {
   "cell_type": "code",
   "execution_count": 12,
   "metadata": {},
   "outputs": [
    {
     "name": "stdout",
     "output_type": "stream",
     "text": [
      "Taille du data set : (356251, 538)\n",
      "Proportion de valeurs manquantes : 0.057432941243475435\n"
     ]
    }
   ],
   "source": [
    "# lecture des données\n",
    "ins = pd.read_csv('data/installments_payments.csv')\n",
    "ins, cat_cols = one_hot_encoder(ins, nan_as_category= True)\n",
    "# nouveaux attributs : pourcentage et différence entre la valeur payée et la mensualité prévue\n",
    "ins['PAYMENT_PERC'] = ins['AMT_PAYMENT'] / ins['AMT_INSTALMENT']\n",
    "ins['PAYMENT_DIFF'] = ins['AMT_INSTALMENT'] - ins['AMT_PAYMENT']\n",
    "# nouveaux attributs : nombres de jours d'arriérés et de versement anticipés (pas de valeur négative)\n",
    "ins['DPD'] = ins['DAYS_ENTRY_PAYMENT'] - ins['DAYS_INSTALMENT']\n",
    "ins['DBD'] = ins['DAYS_INSTALMENT'] - ins['DAYS_ENTRY_PAYMENT']\n",
    "ins['DPD'] = ins['DPD'].apply(lambda x: x if x > 0 else 0)\n",
    "ins['DBD'] = ins['DBD'].apply(lambda x: x if x > 0 else 0)\n",
    "# agrégations\n",
    "aggregations = {\n",
    "    'NUM_INSTALMENT_VERSION': ['nunique'],\n",
    "    'DPD': ['max', 'mean', 'sum'],\n",
    "    'DBD': ['max', 'mean', 'sum'],\n",
    "    'PAYMENT_PERC': ['max', 'mean', 'sum', 'var'],\n",
    "    'PAYMENT_DIFF': ['max', 'mean', 'sum', 'var'],\n",
    "    'AMT_INSTALMENT': ['max', 'mean', 'sum'],\n",
    "    'AMT_PAYMENT': ['min', 'max', 'mean', 'sum'],\n",
    "    'DAYS_ENTRY_PAYMENT': ['max', 'mean', 'sum']\n",
    "}\n",
    "for cat in cat_cols:\n",
    "    aggregations[cat] = ['mean']\n",
    "ins_agg = ins.groupby('SK_ID_CURR').agg(aggregations)\n",
    "ins_agg.columns = pd.Index(['INSTAL_' + e[0] + \"_\" + e[1].upper() for e in ins_agg.columns.tolist()])\n",
    "# décompte des versements\n",
    "ins_agg['INSTAL_COUNT'] = ins.groupby('SK_ID_CURR').size()\n",
    "# imputation par KNN\n",
    "ins_agg.replace(to_replace=np.inf, value=np.nan, inplace=True)\n",
    "ins_agg[ins_agg.columns] = impute.KNNImputer().fit_transform(ins_agg)\n",
    "# jointure\n",
    "df = df.join(ins_agg, how='left', on='SK_ID_CURR')\n",
    "\n",
    "del ins_agg\n",
    "gc.collect()\n",
    "\n",
    "print(f\"Taille du data set : {df.shape}\")\n",
    "missing_values_prop = df.isnull().sum().sum()/df.size\n",
    "print(f\"Proportion de valeurs manquantes : {missing_values_prop}\")"
   ]
  },
  {
   "cell_type": "code",
   "execution_count": 13,
   "metadata": {},
   "outputs": [],
   "source": [
    "# enregistrement des données\n",
    "\n",
    "df.to_csv(\"data/df5.csv\", index=False)"
   ]
  },
  {
   "cell_type": "markdown",
   "metadata": {},
   "source": [
    "# Prétraitement des données sur les cartes de crédit"
   ]
  },
  {
   "cell_type": "code",
   "execution_count": 14,
   "metadata": {},
   "outputs": [
    {
     "name": "stdout",
     "output_type": "stream",
     "text": [
      "Taille du data set : (356251, 679)\n",
      "Proportion de valeurs manquantes : 0.19280098840143192\n"
     ]
    }
   ],
   "source": [
    "cc = pd.read_csv('data/credit_card_balance.csv')\n",
    "cc, cat_cols = one_hot_encoder(cc, nan_as_category= True)\n",
    "# agrégations\n",
    "cc.drop(['SK_ID_PREV'], axis= 1, inplace = True)\n",
    "cc_agg = cc.groupby('SK_ID_CURR').agg(['min', 'max', 'mean', 'sum', 'var'])\n",
    "cc_agg.columns = pd.Index(['CC_' + e[0] + \"_\" + e[1].upper() for e in cc_agg.columns.tolist()])\n",
    "# Décompte des lignes pour chaque client\n",
    "cc_agg['CC_COUNT'] = cc.groupby('SK_ID_CURR').size()\n",
    "# imputation par KNN\n",
    "cc_agg.replace(to_replace=np.inf, value=np.nan, inplace=True)\n",
    "cc_agg[cc_agg.columns] = impute.KNNImputer().fit_transform(cc_agg)\n",
    "# jointure\n",
    "df = df.join(cc_agg, how='left', on='SK_ID_CURR')\n",
    "\n",
    "del cc_agg\n",
    "gc.collect()\n",
    "\n",
    "print(f\"Taille du data set : {df.shape}\")\n",
    "missing_values_prop = df.isnull().sum().sum()/df.size\n",
    "print(f\"Proportion de valeurs manquantes : {missing_values_prop}\")"
   ]
  },
  {
   "cell_type": "code",
   "execution_count": 15,
   "metadata": {},
   "outputs": [],
   "source": [
    "# enregistrement des données\n",
    "\n",
    "df.to_csv(\"data/df6.csv\", index=False)"
   ]
  },
  {
   "cell_type": "markdown",
   "metadata": {},
   "source": [
    "# Enregistrement des données finales"
   ]
  },
  {
   "cell_type": "code",
   "execution_count": 16,
   "metadata": {},
   "outputs": [
    {
     "name": "stdout",
     "output_type": "stream",
     "text": [
      "Train : (307507, 679)\n",
      "Test : (48744, 679)\n"
     ]
    }
   ],
   "source": [
    "train_df = df[df['TARGET'].notnull()]\n",
    "test_df = df[df['TARGET'].isnull()]\n",
    "print(f\"Train : {train_df.shape}\")\n",
    "print(f\"Test : {test_df.shape}\")"
   ]
  },
  {
   "cell_type": "code",
   "execution_count": 17,
   "metadata": {},
   "outputs": [],
   "source": [
    "train_df.to_csv(\"data/train_df.csv\", index=False)\n",
    "test_df.to_csv(\"data/test_df.csv\", index=False)\n",
    "\n"
   ]
  },
  {
   "cell_type": "code",
   "execution_count": null,
   "metadata": {},
   "outputs": [],
   "source": []
  }
 ],
 "metadata": {
  "kernelspec": {
   "display_name": "Python 3",
   "language": "python",
   "name": "python3"
  },
  "language_info": {
   "codemirror_mode": {
    "name": "ipython",
    "version": 3
   },
   "file_extension": ".py",
   "mimetype": "text/x-python",
   "name": "python",
   "nbconvert_exporter": "python",
   "pygments_lexer": "ipython3",
   "version": "3.8.5"
  }
 },
 "nbformat": 4,
 "nbformat_minor": 4
}
